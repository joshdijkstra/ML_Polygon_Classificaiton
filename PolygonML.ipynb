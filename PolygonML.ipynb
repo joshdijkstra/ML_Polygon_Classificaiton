{
 "cells": [
  {
   "cell_type": "code",
   "execution_count": 26,
   "id": "a097d5ba",
   "metadata": {},
   "outputs": [],
   "source": [
    "import pandas as pd\n",
    "import numpy as np\n",
    "import matplotlib.pyplot as plt\n",
    "from matplotlib import image\n",
    "import os\n",
    "import tensorflow as tf\n",
    "import pathlib\n",
    "import glob"
   ]
  },
  {
   "cell_type": "code",
   "execution_count": 3,
   "id": "23aef33b",
   "metadata": {},
   "outputs": [
    {
     "name": "stdout",
     "output_type": "stream",
     "text": [
      "0\n"
     ]
    }
   ],
   "source": [
    "pwd = os.getcwd()\n",
    "images_dir = str(pwd) + '\\\\images\\\\content\\\\'\n",
    "dir = pathlib.Path(images_dir)"
   ]
  },
  {
   "cell_type": "code",
   "execution_count": 4,
   "id": "8d09d8ea",
   "metadata": {},
   "outputs": [
    {
     "name": "stdout",
     "output_type": "stream",
     "text": [
      "C:\\Users\\josh.dykstra\\Desktop\\Jupyter Notebooks\\Color Polygon Images\\archive (4)\\images\\content\\\n"
     ]
    }
   ],
   "source": [
    "print(images_dir)"
   ]
  },
  {
   "cell_type": "code",
   "execution_count": 5,
   "id": "494de6f5",
   "metadata": {},
   "outputs": [
    {
     "name": "stdout",
     "output_type": "stream",
     "text": [
      "Found 10000 files belonging to 4 classes.\n"
     ]
    }
   ],
   "source": [
    "dataset = tf.keras.preprocessing.image_dataset_from_directory(\n",
    "    dir, image_size=(180, 180), batch_size=64\n",
    ")"
   ]
  },
  {
   "cell_type": "code",
   "execution_count": 6,
   "id": "3e4c8770",
   "metadata": {},
   "outputs": [
    {
     "data": {
      "text/html": [
       "<div>\n",
       "<style scoped>\n",
       "    .dataframe tbody tr th:only-of-type {\n",
       "        vertical-align: middle;\n",
       "    }\n",
       "\n",
       "    .dataframe tbody tr th {\n",
       "        vertical-align: top;\n",
       "    }\n",
       "\n",
       "    .dataframe thead th {\n",
       "        text-align: right;\n",
       "    }\n",
       "</style>\n",
       "<table border=\"1\" class=\"dataframe\">\n",
       "  <thead>\n",
       "    <tr style=\"text-align: right;\">\n",
       "      <th></th>\n",
       "      <th>Unnamed: 0</th>\n",
       "      <th>filename</th>\n",
       "      <th>sides</th>\n",
       "      <th>bg_color</th>\n",
       "      <th>fg_color</th>\n",
       "      <th>bound_circle_x</th>\n",
       "      <th>bound_circle_y</th>\n",
       "      <th>bound_circle_r</th>\n",
       "      <th>rotation</th>\n",
       "    </tr>\n",
       "  </thead>\n",
       "  <tbody>\n",
       "    <tr>\n",
       "      <th>0</th>\n",
       "      <td>0</td>\n",
       "      <td>70aaa621-1345-4541-a954-ee9856daaf18.png</td>\n",
       "      <td>4</td>\n",
       "      <td>blue</td>\n",
       "      <td>pink</td>\n",
       "      <td>29</td>\n",
       "      <td>39</td>\n",
       "      <td>15</td>\n",
       "      <td>185</td>\n",
       "    </tr>\n",
       "    <tr>\n",
       "      <th>1</th>\n",
       "      <td>1</td>\n",
       "      <td>ea0d8d14-596a-4365-b007-6325fc96e0f4.png</td>\n",
       "      <td>3</td>\n",
       "      <td>black</td>\n",
       "      <td>yellow</td>\n",
       "      <td>66</td>\n",
       "      <td>66</td>\n",
       "      <td>21</td>\n",
       "      <td>215</td>\n",
       "    </tr>\n",
       "    <tr>\n",
       "      <th>2</th>\n",
       "      <td>2</td>\n",
       "      <td>48c1fc5a-8b6b-4555-bb6a-a7d42a5cedc2.png</td>\n",
       "      <td>4</td>\n",
       "      <td>yellow</td>\n",
       "      <td>red</td>\n",
       "      <td>59</td>\n",
       "      <td>103</td>\n",
       "      <td>20</td>\n",
       "      <td>59</td>\n",
       "    </tr>\n",
       "    <tr>\n",
       "      <th>3</th>\n",
       "      <td>3</td>\n",
       "      <td>ad721906-604c-4682-ae5d-15539ef1dbc7.png</td>\n",
       "      <td>3</td>\n",
       "      <td>green</td>\n",
       "      <td>pink</td>\n",
       "      <td>65</td>\n",
       "      <td>66</td>\n",
       "      <td>61</td>\n",
       "      <td>272</td>\n",
       "    </tr>\n",
       "    <tr>\n",
       "      <th>4</th>\n",
       "      <td>4</td>\n",
       "      <td>510dd5ea-fb92-432e-91cc-ed4654a03ebd.png</td>\n",
       "      <td>6</td>\n",
       "      <td>white</td>\n",
       "      <td>green</td>\n",
       "      <td>48</td>\n",
       "      <td>56</td>\n",
       "      <td>42</td>\n",
       "      <td>38</td>\n",
       "    </tr>\n",
       "    <tr>\n",
       "      <th>...</th>\n",
       "      <td>...</td>\n",
       "      <td>...</td>\n",
       "      <td>...</td>\n",
       "      <td>...</td>\n",
       "      <td>...</td>\n",
       "      <td>...</td>\n",
       "      <td>...</td>\n",
       "      <td>...</td>\n",
       "      <td>...</td>\n",
       "    </tr>\n",
       "    <tr>\n",
       "      <th>9995</th>\n",
       "      <td>9995</td>\n",
       "      <td>e921970a-e09d-4760-ab46-9a33f863d1ef.png</td>\n",
       "      <td>5</td>\n",
       "      <td>green</td>\n",
       "      <td>pink</td>\n",
       "      <td>79</td>\n",
       "      <td>58</td>\n",
       "      <td>43</td>\n",
       "      <td>322</td>\n",
       "    </tr>\n",
       "    <tr>\n",
       "      <th>9996</th>\n",
       "      <td>9996</td>\n",
       "      <td>bf398918-a475-42f1-adc0-59497120bcbd.png</td>\n",
       "      <td>3</td>\n",
       "      <td>green</td>\n",
       "      <td>pink</td>\n",
       "      <td>66</td>\n",
       "      <td>63</td>\n",
       "      <td>57</td>\n",
       "      <td>47</td>\n",
       "    </tr>\n",
       "    <tr>\n",
       "      <th>9997</th>\n",
       "      <td>9997</td>\n",
       "      <td>c4065a6d-5339-46f5-9917-2831698d4fb8.png</td>\n",
       "      <td>6</td>\n",
       "      <td>pink</td>\n",
       "      <td>black</td>\n",
       "      <td>64</td>\n",
       "      <td>67</td>\n",
       "      <td>62</td>\n",
       "      <td>125</td>\n",
       "    </tr>\n",
       "    <tr>\n",
       "      <th>9998</th>\n",
       "      <td>9998</td>\n",
       "      <td>afd51b22-725a-4c43-8b40-dba5a83952c4.png</td>\n",
       "      <td>3</td>\n",
       "      <td>black</td>\n",
       "      <td>gray</td>\n",
       "      <td>25</td>\n",
       "      <td>20</td>\n",
       "      <td>14</td>\n",
       "      <td>28</td>\n",
       "    </tr>\n",
       "    <tr>\n",
       "      <th>9999</th>\n",
       "      <td>9999</td>\n",
       "      <td>e07de190-c136-465b-b2a9-04944aa7980c.png</td>\n",
       "      <td>4</td>\n",
       "      <td>blue</td>\n",
       "      <td>green</td>\n",
       "      <td>86</td>\n",
       "      <td>39</td>\n",
       "      <td>33</td>\n",
       "      <td>8</td>\n",
       "    </tr>\n",
       "  </tbody>\n",
       "</table>\n",
       "<p>10000 rows × 9 columns</p>\n",
       "</div>"
      ],
      "text/plain": [
       "      Unnamed: 0                                  filename  sides bg_color  \\\n",
       "0              0  70aaa621-1345-4541-a954-ee9856daaf18.png      4     blue   \n",
       "1              1  ea0d8d14-596a-4365-b007-6325fc96e0f4.png      3    black   \n",
       "2              2  48c1fc5a-8b6b-4555-bb6a-a7d42a5cedc2.png      4   yellow   \n",
       "3              3  ad721906-604c-4682-ae5d-15539ef1dbc7.png      3    green   \n",
       "4              4  510dd5ea-fb92-432e-91cc-ed4654a03ebd.png      6    white   \n",
       "...          ...                                       ...    ...      ...   \n",
       "9995        9995  e921970a-e09d-4760-ab46-9a33f863d1ef.png      5    green   \n",
       "9996        9996  bf398918-a475-42f1-adc0-59497120bcbd.png      3    green   \n",
       "9997        9997  c4065a6d-5339-46f5-9917-2831698d4fb8.png      6     pink   \n",
       "9998        9998  afd51b22-725a-4c43-8b40-dba5a83952c4.png      3    black   \n",
       "9999        9999  e07de190-c136-465b-b2a9-04944aa7980c.png      4     blue   \n",
       "\n",
       "     fg_color  bound_circle_x  bound_circle_y  bound_circle_r  rotation  \n",
       "0        pink              29              39              15       185  \n",
       "1      yellow              66              66              21       215  \n",
       "2         red              59             103              20        59  \n",
       "3        pink              65              66              61       272  \n",
       "4       green              48              56              42        38  \n",
       "...       ...             ...             ...             ...       ...  \n",
       "9995     pink              79              58              43       322  \n",
       "9996     pink              66              63              57        47  \n",
       "9997    black              64              67              62       125  \n",
       "9998     gray              25              20              14        28  \n",
       "9999    green              86              39              33         8  \n",
       "\n",
       "[10000 rows x 9 columns]"
      ]
     },
     "execution_count": 6,
     "metadata": {},
     "output_type": "execute_result"
    }
   ],
   "source": [
    "targets_file = str(pwd) + '\\\\targets.csv'\n",
    "pd.read_csv(targets_file)"
   ]
  },
  {
   "cell_type": "code",
   "execution_count": 7,
   "id": "7a656b2e",
   "metadata": {},
   "outputs": [],
   "source": [
    "batch_size = 32\n",
    "img_height = 128\n",
    "img_width = 128"
   ]
  },
  {
   "cell_type": "code",
   "execution_count": 8,
   "id": "dd5df68e",
   "metadata": {},
   "outputs": [
    {
     "name": "stdout",
     "output_type": "stream",
     "text": [
      "Found 10000 files belonging to 4 classes.\n",
      "Using 8000 files for training.\n"
     ]
    }
   ],
   "source": [
    "train_ds = tf.keras.utils.image_dataset_from_directory(\n",
    "  dir,\n",
    "  validation_split=0.2,\n",
    "  subset=\"training\",\n",
    "  seed=123,\n",
    "  image_size=(img_height, img_width),\n",
    "  batch_size=batch_size)"
   ]
  },
  {
   "cell_type": "code",
   "execution_count": 9,
   "id": "98622d6f",
   "metadata": {},
   "outputs": [
    {
     "name": "stdout",
     "output_type": "stream",
     "text": [
      "Found 10000 files belonging to 4 classes.\n",
      "Using 2000 files for validation.\n"
     ]
    }
   ],
   "source": [
    "val_ds = tf.keras.utils.image_dataset_from_directory(\n",
    "  dir,\n",
    "  validation_split=0.2,\n",
    "  subset=\"validation\",\n",
    "  seed=123,\n",
    "  image_size=(img_height, img_width),\n",
    "  batch_size=batch_size)"
   ]
  },
  {
   "cell_type": "code",
   "execution_count": 10,
   "id": "a8b54c58",
   "metadata": {},
   "outputs": [
    {
     "name": "stdout",
     "output_type": "stream",
     "text": [
      "['hexagon', 'pentagon', 'square', 'triangle']\n"
     ]
    }
   ],
   "source": [
    "class_names = train_ds.class_names\n",
    "print(class_names)"
   ]
  },
  {
   "cell_type": "code",
   "execution_count": 11,
   "id": "67cd5cb9",
   "metadata": {},
   "outputs": [
    {
     "data": {
      "image/png": "[encoded data removed]",
      "text/plain": [
       "<Figure size 720x720 with 9 Axes>"
      ]
     },
     "metadata": {
      "needs_background": "light"
     },
     "output_type": "display_data"
    }
   ],
   "source": [
    "import matplotlib.pyplot as plt\n",
    "\n",
    "plt.figure(figsize=(10, 10))\n",
    "for images, labels in train_ds.take(1):\n",
    "  for i in range(9):\n",
    "    ax = plt.subplot(3, 3, i + 1)\n",
    "    plt.imshow(images[i].numpy().astype(\"uint8\"))\n",
    "    plt.title(class_names[labels[i]])\n",
    "    plt.axis(\"off\")"
   ]
  },
  {
   "cell_type": "code",
   "execution_count": 12,
   "id": "c1d9dffb",
   "metadata": {},
   "outputs": [
    {
     "name": "stdout",
     "output_type": "stream",
     "text": [
      "(32, 128, 128, 3)\n",
      "(32,)\n"
     ]
    }
   ],
   "source": [
    "for image_batch, labels_batch in train_ds:\n",
    "  print(image_batch.shape)\n",
    "  print(labels_batch.shape)\n",
    "  break"
   ]
  },
  {
   "cell_type": "code",
   "execution_count": 13,
   "id": "8308f1ca",
   "metadata": {},
   "outputs": [],
   "source": [
    "AUTOTUNE = tf.data.AUTOTUNE\n",
    "\n",
    "train_ds = train_ds.cache().shuffle(1000).prefetch(buffer_size=AUTOTUNE)\n",
    "val_ds = val_ds.cache().prefetch(buffer_size=AUTOTUNE)"
   ]
  },
  {
   "cell_type": "code",
   "execution_count": 14,
   "id": "d72b87d1",
   "metadata": {},
   "outputs": [],
   "source": [
    "from tensorflow.keras import layers\n",
    "from tensorflow.keras.models import Sequential"
   ]
  },
  {
   "cell_type": "code",
   "execution_count": 15,
   "id": "9346cc04",
   "metadata": {},
   "outputs": [],
   "source": [
    "normalization_layer = layers.Rescaling(1./255)"
   ]
  },
  {
   "cell_type": "code",
   "execution_count": 16,
   "id": "5bb8debb",
   "metadata": {},
   "outputs": [
    {
     "name": "stdout",
     "output_type": "stream",
     "text": [
      "0.0 1.0\n"
     ]
    }
   ],
   "source": [
    "normalized_ds = train_ds.map(lambda x, y: (normalization_layer(x), y))\n",
    "image_batch, labels_batch = next(iter(normalized_ds))\n",
    "first_image = image_batch[0]\n",
    "# Notice the pixel values are now in `[0,1]`.\n",
    "print(np.min(first_image), np.max(first_image))"
   ]
  },
  {
   "cell_type": "code",
   "execution_count": 17,
   "id": "4bcc588d",
   "metadata": {},
   "outputs": [],
   "source": [
    "num_classes = len(class_names)\n",
    "\n",
    "model = Sequential([\n",
    "  layers.Rescaling(1./255, input_shape=(img_height, img_width, 3)),\n",
    "  layers.Conv2D(16, 3, padding='same', activation='relu'),\n",
    "  layers.MaxPooling2D(),\n",
    "  layers.Conv2D(32, 3, padding='same', activation='relu'),\n",
    "  layers.MaxPooling2D(),\n",
    "  layers.Conv2D(64, 3, padding='same', activation='relu'),\n",
    "  layers.MaxPooling2D(),\n",
    "  layers.Flatten(),\n",
    "  layers.Dense(128, activation='relu'),\n",
    "  layers.Dense(num_classes)\n",
    "])"
   ]
  },
  {
   "cell_type": "code",
   "execution_count": 18,
   "id": "fcda4eaf",
   "metadata": {},
   "outputs": [],
   "source": [
    "model.compile(optimizer='adam',\n",
    "              loss=tf.keras.losses.SparseCategoricalCrossentropy(from_logits=True),\n",
    "              metrics=['accuracy'])"
   ]
  },
  {
   "cell_type": "code",
   "execution_count": 19,
   "id": "0f4f262e",
   "metadata": {},
   "outputs": [
    {
     "name": "stdout",
     "output_type": "stream",
     "text": [
      "Model: \"sequential\"\n",
      "_________________________________________________________________\n",
      " Layer (type)                Output Shape              Param #   \n",
      "=================================================================\n",
      " rescaling_1 (Rescaling)     (None, 128, 128, 3)       0         \n",
      "                                                                 \n",
      " conv2d (Conv2D)             (None, 128, 128, 16)      448       \n",
      "                                                                 \n",
      " max_pooling2d (MaxPooling2D  (None, 64, 64, 16)       0         \n",
      " )                                                               \n",
      "                                                                 \n",
      " conv2d_1 (Conv2D)           (None, 64, 64, 32)        4640      \n",
      "                                                                 \n",
      " max_pooling2d_1 (MaxPooling  (None, 32, 32, 32)       0         \n",
      " 2D)                                                             \n",
      "                                                                 \n",
      " conv2d_2 (Conv2D)           (None, 32, 32, 64)        18496     \n",
      "                                                                 \n",
      " max_pooling2d_2 (MaxPooling  (None, 16, 16, 64)       0         \n",
      " 2D)                                                             \n",
      "                                                                 \n",
      " flatten (Flatten)           (None, 16384)             0         \n",
      "                                                                 \n",
      " dense (Dense)               (None, 128)               2097280   \n",
      "                                                                 \n",
      " dense_1 (Dense)             (None, 4)                 516       \n",
      "                                                                 \n",
      "=================================================================\n",
      "Total params: 2,121,380\n",
      "Trainable params: 2,121,380\n",
      "Non-trainable params: 0\n",
      "_________________________________________________________________\n"
     ]
    }
   ],
   "source": [
    "model.summary()"
   ]
  },
  {
   "cell_type": "code",
   "execution_count": 20,
   "id": "d8631d61",
   "metadata": {},
   "outputs": [
    {
     "name": "stdout",
     "output_type": "stream",
     "text": [
      "Epoch 1/10\n",
      "250/250 [==============================] - 42s 166ms/step - loss: 1.2947 - accuracy: 0.3613 - val_loss: 1.1616 - val_accuracy: 0.4555\n",
      "Epoch 2/10\n",
      "250/250 [==============================] - 43s 172ms/step - loss: 0.9908 - accuracy: 0.5495 - val_loss: 0.8544 - val_accuracy: 0.6260\n",
      "Epoch 3/10\n",
      "250/250 [==============================] - 44s 177ms/step - loss: 0.6661 - accuracy: 0.7190 - val_loss: 0.6429 - val_accuracy: 0.7305\n",
      "Epoch 4/10\n",
      "250/250 [==============================] - 43s 172ms/step - loss: 0.4631 - accuracy: 0.8117 - val_loss: 0.5629 - val_accuracy: 0.7710\n",
      "Epoch 5/10\n",
      "250/250 [==============================] - 47s 188ms/step - loss: 0.3284 - accuracy: 0.8685 - val_loss: 0.5328 - val_accuracy: 0.7985\n",
      "Epoch 6/10\n",
      "250/250 [==============================] - 46s 182ms/step - loss: 0.2307 - accuracy: 0.9125 - val_loss: 0.5740 - val_accuracy: 0.7905\n",
      "Epoch 7/10\n",
      "250/250 [==============================] - 45s 179ms/step - loss: 0.1531 - accuracy: 0.9429 - val_loss: 0.6678 - val_accuracy: 0.7955\n",
      "Epoch 8/10\n",
      "250/250 [==============================] - 51s 203ms/step - loss: 0.1106 - accuracy: 0.9609 - val_loss: 0.6308 - val_accuracy: 0.8225\n",
      "Epoch 9/10\n",
      "250/250 [==============================] - 45s 182ms/step - loss: 0.0794 - accuracy: 0.9749 - val_loss: 0.7446 - val_accuracy: 0.8145\n",
      "Epoch 10/10\n",
      "250/250 [==============================] - 50s 198ms/step - loss: 0.0480 - accuracy: 0.9851 - val_loss: 0.9427 - val_accuracy: 0.7950\n"
     ]
    }
   ],
   "source": [
    "epochs=10\n",
    "history = model.fit(\n",
    "  train_ds,\n",
    "  validation_data=val_ds,\n",
    "  epochs=epochs\n",
    ")"
   ]
  },
  {
   "cell_type": "code",
   "execution_count": 21,
   "id": "6cc4c09a",
   "metadata": {},
   "outputs": [
    {
     "data": {
      "image/png": "[encoded data removed]",
      "text/plain": [
       "<Figure size 576x576 with 2 Axes>"
      ]
     },
     "metadata": {
      "needs_background": "light"
     },
     "output_type": "display_data"
    }
   ],
   "source": [
    "acc = history.history['accuracy']\n",
    "val_acc = history.history['val_accuracy']\n",
    "\n",
    "loss = history.history['loss']\n",
    "val_loss = history.history['val_loss']\n",
    "\n",
    "epochs_range = range(epochs)\n",
    "\n",
    "plt.figure(figsize=(8, 8))\n",
    "plt.subplot(1, 2, 1)\n",
    "plt.plot(epochs_range, acc, label='Training Accuracy')\n",
    "plt.plot(epochs_range, val_acc, label='Validation Accuracy')\n",
    "plt.legend(loc='lower right')\n",
    "plt.title('Training and Validation Accuracy')\n",
    "\n",
    "plt.subplot(1, 2, 2)\n",
    "plt.plot(epochs_range, loss, label='Training Loss')\n",
    "plt.plot(epochs_range, val_loss, label='Validation Loss')\n",
    "plt.legend(loc='upper right')\n",
    "plt.title('Training and Validation Loss')\n",
    "plt.show()"
   ]
  },
  {
   "cell_type": "code",
   "execution_count": 27,
   "id": "482e8996",
   "metadata": {},
   "outputs": [
    {
     "data": {
      "image/png": "[encoded data removed]",
      "text/plain": [
       "<Figure size 432x288 with 12 Axes>"
      ]
     },
     "metadata": {
      "needs_background": "light"
     },
     "output_type": "display_data"
    }
   ],
   "source": [
    "files = glob.glob(str(pwd)+\"\\\\test_images\\\\*.png\")\n",
    "for i in range(12):\n",
    "    ax = plt.subplot(3, 4, i + 1)\n",
    "    img_dir = files[i]\n",
    "    data = image.imread(img_dir)\n",
    "    plt.imshow(data)\n",
    "    img = tf.keras.utils.load_img(\n",
    "    img_dir, target_size=(128, 128))\n",
    "    img_array = tf.keras.utils.img_to_array(img)\n",
    "    img_array = tf.expand_dims(img_array, 0) # Create a batch\n",
    "\n",
    "    predictions = model.predict(img_array)\n",
    "    score = tf.nn.softmax(predictions[0])\n",
    "    label = class_names[np.argmax(score)]\n",
    "\n",
    "    plt.title(label)\n",
    "    plt.axis(\"off\")"
   ]
  },
  {
   "cell_type": "code",
   "execution_count": null,
   "id": "186f877b",
   "metadata": {},
   "outputs": [],
   "source": []
  }
 ],
 "metadata": {
  "kernelspec": {
   "display_name": "Python 3 (ipykernel)",
   "language": "python",
   "name": "python3"
  },
  "language_info": {
   "codemirror_mode": {
    "name": "ipython",
    "version": 3
   },
   "file_extension": ".py",
   "mimetype": "text/x-python",
   "name": "python",
   "nbconvert_exporter": "python",
   "pygments_lexer": "ipython3",
   "version": "3.9.12"
  }
 },
 "nbformat": 4,
 "nbformat_minor": 5
}
